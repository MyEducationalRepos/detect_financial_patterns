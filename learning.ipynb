{
 "cells": [
  {
   "cell_type": "code",
   "execution_count": 38,
   "metadata": {},
   "outputs": [],
   "source": [
    "!source env/bin/activate"
   ]
  },
  {
   "cell_type": "code",
   "execution_count": 39,
   "metadata": {},
   "outputs": [],
   "source": [
    "import pandas as pd\n",
    "import numpy as np\n",
    "import yfinance as yf\n",
    "import matplotlib.pyplot as plt\n",
    "import seaborn as sns\n"
   ]
  },
  {
   "cell_type": "code",
   "execution_count": 40,
   "metadata": {},
   "outputs": [],
   "source": [
    "ticker = 'AAP'\n"
   ]
  },
  {
   "cell_type": "code",
   "execution_count": 41,
   "metadata": {},
   "outputs": [],
   "source": [
    "my_ticker = yf.Ticker(ticker)"
   ]
  },
  {
   "cell_type": "code",
   "execution_count": 42,
   "metadata": {},
   "outputs": [
    {
     "data": {
      "text/plain": [
       "Date\n",
       "2018-06-30 00:00:00-04:00    0.06\n",
       "2018-09-30 00:00:00-04:00    0.06\n",
       "2018-12-31 00:00:00-05:00    0.06\n",
       "2019-03-31 00:00:00-04:00    0.06\n",
       "2019-06-30 00:00:00-04:00    0.06\n",
       "2019-09-30 00:00:00-04:00    0.06\n",
       "2019-12-31 00:00:00-05:00    0.06\n",
       "2020-03-31 00:00:00-04:00    0.25\n",
       "2020-06-30 00:00:00-04:00    0.25\n",
       "2020-09-30 00:00:00-04:00    0.25\n",
       "2020-12-31 00:00:00-05:00    0.25\n",
       "2021-03-31 00:00:00-04:00    0.25\n",
       "2021-06-30 00:00:00-04:00    1.00\n",
       "2021-09-30 00:00:00-04:00    1.00\n",
       "2021-12-31 00:00:00-05:00    1.00\n",
       "2022-03-31 00:00:00-04:00    1.50\n",
       "2022-06-30 00:00:00-04:00    1.50\n",
       "2022-09-30 00:00:00-04:00    1.50\n",
       "2022-12-31 00:00:00-05:00    1.50\n",
       "2023-03-31 00:00:00-04:00    0.00\n",
       "2023-06-30 00:00:00-04:00    1.50\n",
       "Freq: Q-DEC, Name: Dividends, dtype: float64"
      ]
     },
     "execution_count": 42,
     "metadata": {},
     "output_type": "execute_result"
    }
   ],
   "source": [
    "my_ticker.history(period='5y').Dividends.resample(rule='Q').sum()"
   ]
  },
  {
   "cell_type": "code",
   "execution_count": 43,
   "metadata": {},
   "outputs": [
    {
     "name": "stdout",
     "output_type": "stream",
     "text": [
      "\u001b[0;31mSignature:\u001b[0m\n",
      "\u001b[0mmy_ticker\u001b[0m\u001b[0;34m.\u001b[0m\u001b[0mhistory\u001b[0m\u001b[0;34m(\u001b[0m\u001b[0;34m\u001b[0m\n",
      "\u001b[0;34m\u001b[0m    \u001b[0mperiod\u001b[0m\u001b[0;34m=\u001b[0m\u001b[0;34m'1mo'\u001b[0m\u001b[0;34m,\u001b[0m\u001b[0;34m\u001b[0m\n",
      "\u001b[0;34m\u001b[0m    \u001b[0minterval\u001b[0m\u001b[0;34m=\u001b[0m\u001b[0;34m'1d'\u001b[0m\u001b[0;34m,\u001b[0m\u001b[0;34m\u001b[0m\n",
      "\u001b[0;34m\u001b[0m    \u001b[0mstart\u001b[0m\u001b[0;34m=\u001b[0m\u001b[0;32mNone\u001b[0m\u001b[0;34m,\u001b[0m\u001b[0;34m\u001b[0m\n",
      "\u001b[0;34m\u001b[0m    \u001b[0mend\u001b[0m\u001b[0;34m=\u001b[0m\u001b[0;32mNone\u001b[0m\u001b[0;34m,\u001b[0m\u001b[0;34m\u001b[0m\n",
      "\u001b[0;34m\u001b[0m    \u001b[0mprepost\u001b[0m\u001b[0;34m=\u001b[0m\u001b[0;32mFalse\u001b[0m\u001b[0;34m,\u001b[0m\u001b[0;34m\u001b[0m\n",
      "\u001b[0;34m\u001b[0m    \u001b[0mactions\u001b[0m\u001b[0;34m=\u001b[0m\u001b[0;32mTrue\u001b[0m\u001b[0;34m,\u001b[0m\u001b[0;34m\u001b[0m\n",
      "\u001b[0;34m\u001b[0m    \u001b[0mauto_adjust\u001b[0m\u001b[0;34m=\u001b[0m\u001b[0;32mTrue\u001b[0m\u001b[0;34m,\u001b[0m\u001b[0;34m\u001b[0m\n",
      "\u001b[0;34m\u001b[0m    \u001b[0mback_adjust\u001b[0m\u001b[0;34m=\u001b[0m\u001b[0;32mFalse\u001b[0m\u001b[0;34m,\u001b[0m\u001b[0;34m\u001b[0m\n",
      "\u001b[0;34m\u001b[0m    \u001b[0mrepair\u001b[0m\u001b[0;34m=\u001b[0m\u001b[0;32mFalse\u001b[0m\u001b[0;34m,\u001b[0m\u001b[0;34m\u001b[0m\n",
      "\u001b[0;34m\u001b[0m    \u001b[0mkeepna\u001b[0m\u001b[0;34m=\u001b[0m\u001b[0;32mFalse\u001b[0m\u001b[0;34m,\u001b[0m\u001b[0;34m\u001b[0m\n",
      "\u001b[0;34m\u001b[0m    \u001b[0mproxy\u001b[0m\u001b[0;34m=\u001b[0m\u001b[0;32mNone\u001b[0m\u001b[0;34m,\u001b[0m\u001b[0;34m\u001b[0m\n",
      "\u001b[0;34m\u001b[0m    \u001b[0mrounding\u001b[0m\u001b[0;34m=\u001b[0m\u001b[0;32mFalse\u001b[0m\u001b[0;34m,\u001b[0m\u001b[0;34m\u001b[0m\n",
      "\u001b[0;34m\u001b[0m    \u001b[0mtimeout\u001b[0m\u001b[0;34m=\u001b[0m\u001b[0;36m10\u001b[0m\u001b[0;34m,\u001b[0m\u001b[0;34m\u001b[0m\n",
      "\u001b[0;34m\u001b[0m    \u001b[0mdebug\u001b[0m\u001b[0;34m=\u001b[0m\u001b[0;32mTrue\u001b[0m\u001b[0;34m,\u001b[0m\u001b[0;34m\u001b[0m\n",
      "\u001b[0;34m\u001b[0m    \u001b[0mraise_errors\u001b[0m\u001b[0;34m=\u001b[0m\u001b[0;32mFalse\u001b[0m\u001b[0;34m,\u001b[0m\u001b[0;34m\u001b[0m\n",
      "\u001b[0;34m\u001b[0m\u001b[0;34m)\u001b[0m \u001b[0;34m->\u001b[0m \u001b[0mpandas\u001b[0m\u001b[0;34m.\u001b[0m\u001b[0mcore\u001b[0m\u001b[0;34m.\u001b[0m\u001b[0mframe\u001b[0m\u001b[0;34m.\u001b[0m\u001b[0mDataFrame\u001b[0m\u001b[0;34m\u001b[0m\u001b[0;34m\u001b[0m\u001b[0m\n",
      "\u001b[0;31mDocstring:\u001b[0m\n",
      ":Parameters:\n",
      "    period : str\n",
      "        Valid periods: 1d,5d,1mo,3mo,6mo,1y,2y,5y,10y,ytd,max\n",
      "        Either Use period parameter or use start and end\n",
      "    interval : str\n",
      "        Valid intervals: 1m,2m,5m,15m,30m,60m,90m,1h,1d,5d,1wk,1mo,3mo\n",
      "        Intraday data cannot extend last 60 days\n",
      "    start: str\n",
      "        Download start date string (YYYY-MM-DD) or _datetime.\n",
      "        Default is 1900-01-01\n",
      "    end: str\n",
      "        Download end date string (YYYY-MM-DD) or _datetime.\n",
      "        Default is now\n",
      "    prepost : bool\n",
      "        Include Pre and Post market data in results?\n",
      "        Default is False\n",
      "    auto_adjust: bool\n",
      "        Adjust all OHLC automatically? Default is True\n",
      "    back_adjust: bool\n",
      "        Back-adjusted data to mimic true historical prices\n",
      "    repair: bool\n",
      "        Detect currency unit 100x mixups and attempt repair\n",
      "        Default is False\n",
      "    keepna: bool\n",
      "        Keep NaN rows returned by Yahoo?\n",
      "        Default is False\n",
      "    proxy: str\n",
      "        Optional. Proxy server URL scheme. Default is None\n",
      "    rounding: bool\n",
      "        Round values to 2 decimal places?\n",
      "        Optional. Default is False = precision suggested by Yahoo!\n",
      "    timeout: None or float\n",
      "        If not None stops waiting for a response after given number of\n",
      "        seconds. (Can also be a fraction of a second e.g. 0.01)\n",
      "        Default is 10 seconds.\n",
      "    debug: bool\n",
      "        If passed as False, will suppress\n",
      "        error message printing to console.\n",
      "    raise_errors: bool\n",
      "        If True, then raise errors as\n",
      "        exceptions instead of printing to console.\n",
      "\u001b[0;31mFile:\u001b[0m      ~/Documents/proyectos_python/mastering_financial_patterns/env/lib/python3.8/site-packages/yfinance/base.py\n",
      "\u001b[0;31mType:\u001b[0m      method"
     ]
    }
   ],
   "source": [
    "?my_ticker.history"
   ]
  },
  {
   "cell_type": "code",
   "execution_count": 47,
   "metadata": {},
   "outputs": [],
   "source": [
    "my_ticker.info"
   ]
  },
  {
   "cell_type": "code",
   "execution_count": 48,
   "metadata": {},
   "outputs": [
    {
     "data": {
      "text/plain": [
       "{'currency': 'USD',\n",
       " 'symbol': 'AAP',\n",
       " 'exchangeName': 'NYQ',\n",
       " 'instrumentType': 'EQUITY',\n",
       " 'firstTradeDate': 1007044200,\n",
       " 'regularMarketTime': 1685736002,\n",
       " 'gmtoffset': -14400,\n",
       " 'timezone': 'EDT',\n",
       " 'exchangeTimezoneName': 'America/New_York',\n",
       " 'regularMarketPrice': 67.56,\n",
       " 'chartPreviousClose': 128.34,\n",
       " 'priceHint': 2,\n",
       " 'currentTradingPeriod': {'pre': {'timezone': 'EDT',\n",
       "   'start': 1685692800,\n",
       "   'end': 1685712600,\n",
       "   'gmtoffset': -14400},\n",
       "  'regular': {'timezone': 'EDT',\n",
       "   'start': 1685712600,\n",
       "   'end': 1685736000,\n",
       "   'gmtoffset': -14400},\n",
       "  'post': {'timezone': 'EDT',\n",
       "   'start': 1685736000,\n",
       "   'end': 1685750400,\n",
       "   'gmtoffset': -14400}},\n",
       " 'dataGranularity': '1d',\n",
       " 'range': '5y',\n",
       " 'validRanges': ['1d',\n",
       "  '5d',\n",
       "  '1mo',\n",
       "  '3mo',\n",
       "  '6mo',\n",
       "  '1y',\n",
       "  '2y',\n",
       "  '5y',\n",
       "  '10y',\n",
       "  'ytd',\n",
       "  'max']}"
      ]
     },
     "execution_count": 48,
     "metadata": {},
     "output_type": "execute_result"
    }
   ],
   "source": [
    "my_ticker.history_metadata"
   ]
  },
  {
   "cell_type": "code",
   "execution_count": 49,
   "metadata": {},
   "outputs": [],
   "source": [
    "my_ticker.isin"
   ]
  },
  {
   "cell_type": "code",
   "execution_count": 50,
   "metadata": {},
   "outputs": [
    {
     "data": {
      "text/plain": [
       "[{'uuid': '6c9936fd-0e76-38c4-ae9a-e8a8d6527f46',\n",
       "  'title': 'Bearish Bets: 3 Stocks You Should Consider Shorting This Week',\n",
       "  'publisher': 'TheStreet.com',\n",
       "  'link': 'https://finance.yahoo.com/m/6c9936fd-0e76-38c4-ae9a-e8a8d6527f46/bearish-bets%3A-3-stocks-you.html',\n",
       "  'providerPublishTime': 1685889000,\n",
       "  'type': 'STORY',\n",
       "  'thumbnail': {'resolutions': [{'url': 'https://s.yimg.com/uu/api/res/1.2/9_8mtyvp2xgQyaNsdMJE2A--~B/aD04MDA7dz0xMjAwO2FwcGlkPXl0YWNoeW9u/https://media.zenfs.com/en/thestreet.com/b86fb54e3926e92e0e96fda00c313bfb',\n",
       "     'width': 1200,\n",
       "     'height': 800,\n",
       "     'tag': 'original'},\n",
       "    {'url': 'https://s.yimg.com/uu/api/res/1.2/CewsJ0qwc6GV0poWfC7f1A--~B/Zmk9ZmlsbDtoPTE0MDtweW9mZj0wO3c9MTQwO2FwcGlkPXl0YWNoeW9u/https://media.zenfs.com/en/thestreet.com/b86fb54e3926e92e0e96fda00c313bfb',\n",
       "     'width': 140,\n",
       "     'height': 140,\n",
       "     'tag': '140x140'}]},\n",
       "  'relatedTickers': ['AAP', 'MET']},\n",
       " {'uuid': '5b31b6b6-4191-3004-b372-f0c646341b4e',\n",
       "  'title': \"Is It Time to Buy the S&P 500's 3 Worst-Performing May Stocks?\",\n",
       "  'publisher': 'Motley Fool',\n",
       "  'link': 'https://finance.yahoo.com/m/5b31b6b6-4191-3004-b372-f0c646341b4e/is-it-time-to-buy-the-s%26p.html',\n",
       "  'providerPublishTime': 1685888220,\n",
       "  'type': 'STORY',\n",
       "  'thumbnail': {'resolutions': [{'url': 'https://s.yimg.com/uu/api/res/1.2/uXQjxRTtfqM4MbITRoRsNw--~B/aD0xNDExO3c9MjEyNTthcHBpZD15dGFjaHlvbg--/https://media.zenfs.com/en/motleyfool.com/0cc83f20bc26cd19d0cb3a8642893e27',\n",
       "     'width': 2125,\n",
       "     'height': 1411,\n",
       "     'tag': 'original'},\n",
       "    {'url': 'https://s.yimg.com/uu/api/res/1.2/ywfpls819aBf1DLsTvWpOQ--~B/Zmk9ZmlsbDtoPTE0MDtweW9mZj0wO3c9MTQwO2FwcGlkPXl0YWNoeW9u/https://media.zenfs.com/en/motleyfool.com/0cc83f20bc26cd19d0cb3a8642893e27',\n",
       "     'width': 140,\n",
       "     'height': 140,\n",
       "     'tag': '140x140'}]},\n",
       "  'relatedTickers': ['^GSPC', 'AAP', 'NWL']},\n",
       " {'uuid': '983e6afb-476f-3811-9d76-c92e5625a709',\n",
       "  'title': 'The Score: Nvidia, SoFi, Dollar General and More Stocks That Defined the Week',\n",
       "  'publisher': 'The Wall Street Journal',\n",
       "  'link': 'https://finance.yahoo.com/m/983e6afb-476f-3811-9d76-c92e5625a709/the-score%3A-nvidia%2C-sofi%2C.html',\n",
       "  'providerPublishTime': 1685737920,\n",
       "  'type': 'STORY',\n",
       "  'thumbnail': {'resolutions': [{'url': 'https://s.yimg.com/uu/api/res/1.2/A4WoZA7wxepja4JTULo6Sw--~B/aD02NDA7dz0xMjgwO2FwcGlkPXl0YWNoeW9u/https://media.zenfs.com/en/wsj.com/a2c11a21ff666e05f7b8831cc03f7428',\n",
       "     'width': 1280,\n",
       "     'height': 640,\n",
       "     'tag': 'original'},\n",
       "    {'url': 'https://s.yimg.com/uu/api/res/1.2/Xy1eAm70NBDiLgnc.yEp3w--~B/Zmk9ZmlsbDtoPTE0MDtweW9mZj0wO3c9MTQwO2FwcGlkPXl0YWNoeW9u/https://media.zenfs.com/en/wsj.com/a2c11a21ff666e05f7b8831cc03f7428',\n",
       "     'width': 140,\n",
       "     'height': 140,\n",
       "     'tag': '140x140'}]},\n",
       "  'relatedTickers': ['SOFI', 'NVDA', 'DG', 'AMZN', 'AAP']},\n",
       " {'uuid': '568d8303-7d0a-33aa-b0d0-3ee1c0b5774b',\n",
       "  'title': 'Why Shares in Advance Auto Parts Got Crushed This Week',\n",
       "  'publisher': 'Motley Fool',\n",
       "  'link': 'https://finance.yahoo.com/m/568d8303-7d0a-33aa-b0d0-3ee1c0b5774b/why-shares-in-advance-auto.html',\n",
       "  'providerPublishTime': 1685641221,\n",
       "  'type': 'STORY',\n",
       "  'thumbnail': {'resolutions': [{'url': 'https://s.yimg.com/uu/api/res/1.2/cnYRbsInHf68m6AzGIvT6w--~B/aD0xMzY5O3c9MjE5MDthcHBpZD15dGFjaHlvbg--/https://media.zenfs.com/en/motleyfool.com/8019a0454b2ca5c58d2de2a58f8d1143',\n",
       "     'width': 2190,\n",
       "     'height': 1369,\n",
       "     'tag': 'original'},\n",
       "    {'url': 'https://s.yimg.com/uu/api/res/1.2/.gHJyxPTiXtSL0O6y9TxhQ--~B/Zmk9ZmlsbDtoPTE0MDtweW9mZj0wO3c9MTQwO2FwcGlkPXl0YWNoeW9u/https://media.zenfs.com/en/motleyfool.com/8019a0454b2ca5c58d2de2a58f8d1143',\n",
       "     'width': 140,\n",
       "     'height': 140,\n",
       "     'tag': '140x140'}]},\n",
       "  'relatedTickers': ['AAP']},\n",
       " {'uuid': '4adbc246-5753-3599-8def-233d3f6b7b4f',\n",
       "  'title': 'Company News for Jun 1, 2023',\n",
       "  'publisher': 'Zacks',\n",
       "  'link': 'https://finance.yahoo.com/news/company-news-jun-1-2023-133800125.html',\n",
       "  'providerPublishTime': 1685626680,\n",
       "  'type': 'STORY',\n",
       "  'thumbnail': {'resolutions': [{'url': 'https://s.yimg.com/uu/api/res/1.2/tD9xmSnyZfmFP9l5AcLUcw--~B/aD00MDA7dz02MzU7YXBwaWQ9eXRhY2h5b24-/https://media.zenfs.com/en/zacks.com/76e0758f2bf263287331e0fc41f0e88b',\n",
       "     'width': 635,\n",
       "     'height': 400,\n",
       "     'tag': 'original'},\n",
       "    {'url': 'https://s.yimg.com/uu/api/res/1.2/LfB64NliiAL.obMR49Zsnw--~B/Zmk9ZmlsbDtoPTE0MDtweW9mZj0wO3c9MTQwO2FwcGlkPXl0YWNoeW9u/https://media.zenfs.com/en/zacks.com/76e0758f2bf263287331e0fc41f0e88b',\n",
       "     'width': 140,\n",
       "     'height': 140,\n",
       "     'tag': '140x140'}]},\n",
       "  'relatedTickers': ['AAP', 'HPE', 'HPQ']},\n",
       " {'uuid': 'e6d45be3-ab9e-3b75-aa9b-c69d0f1c6a45',\n",
       "  'title': '4 big analyst cuts: Target slashed at JPMorgan',\n",
       "  'publisher': 'Investing.com',\n",
       "  'link': 'https://finance.yahoo.com/news/4-big-analyst-cuts-target-064115401.html',\n",
       "  'providerPublishTime': 1685601675,\n",
       "  'type': 'STORY',\n",
       "  'relatedTickers': ['TGT', 'AAP', 'XOM']},\n",
       " {'uuid': '920f7836-14a6-33e7-8dc1-84a421e84189',\n",
       "  'title': 'Q1 2023 Advance Auto Parts Inc Earnings Call',\n",
       "  'publisher': 'Thomson Reuters StreetEvents',\n",
       "  'link': 'https://finance.yahoo.com/news/q1-2023-advance-auto-parts-033433505.html',\n",
       "  'providerPublishTime': 1685590473,\n",
       "  'type': 'STORY',\n",
       "  'relatedTickers': ['AAP']},\n",
       " {'uuid': 'a9e02010-26ee-3ef5-8c66-583e21f02c70',\n",
       "  'title': 'US STOCKS-Wall St falls as labor data spurs rate hike jitters before debt ceiling vote',\n",
       "  'publisher': 'Reuters',\n",
       "  'link': 'https://finance.yahoo.com/news/us-stocks-wall-st-falls-203426181.html',\n",
       "  'providerPublishTime': 1685565266,\n",
       "  'type': 'STORY',\n",
       "  'relatedTickers': ['COMP', '^GSPC', '^DJI', 'NVDA', 'AAP', 'INTC']}]"
      ]
     },
     "execution_count": 50,
     "metadata": {},
     "output_type": "execute_result"
    }
   ],
   "source": [
    "my_ticker.news"
   ]
  },
  {
   "cell_type": "code",
   "execution_count": null,
   "metadata": {},
   "outputs": [],
   "source": []
  }
 ],
 "metadata": {
  "kernelspec": {
   "display_name": "env",
   "language": "python",
   "name": "python3"
  },
  "language_info": {
   "codemirror_mode": {
    "name": "ipython",
    "version": 3
   },
   "file_extension": ".py",
   "mimetype": "text/x-python",
   "name": "python",
   "nbconvert_exporter": "python",
   "pygments_lexer": "ipython3",
   "version": "3.8.10"
  },
  "orig_nbformat": 4
 },
 "nbformat": 4,
 "nbformat_minor": 2
}
