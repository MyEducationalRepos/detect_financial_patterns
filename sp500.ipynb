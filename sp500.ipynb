{
 "cells": [
  {
   "cell_type": "code",
   "execution_count": 2,
   "metadata": {},
   "outputs": [
    {
     "name": "stdout",
     "output_type": "stream",
     "text": [
      "Index(['Symbol', 'Security', 'GICS Sector', 'GICS Sub-Industry',\n",
      "       'Headquarters Location', 'Date added', 'CIK', 'Founded'],\n",
      "      dtype='object')\n"
     ]
    }
   ],
   "source": [
    "import pandas as pd \n",
    "\n",
    "url = 'https://en.wikipedia.org/wiki/List_of_S%26P_500_companies'\n",
    "\n",
    "df = pd.read_html(url)[0]\n",
    "\n",
    "\n",
    "print(df.columns)"
   ]
  },
  {
   "cell_type": "code",
   "execution_count": 4,
   "metadata": {},
   "outputs": [
    {
     "data": {
      "text/plain": [
       "array(['Industrial Conglomerates', 'Building Products',\n",
       "       'Health Care Equipment', 'Pharmaceuticals',\n",
       "       'IT Consulting & Other Services', 'Interactive Home Entertainment',\n",
       "       'Agricultural Products & Services', 'Application Software',\n",
       "       'Human Resource & Employment Services', 'Automotive Retail',\n",
       "       'Independent Power Producers & Energy Traders',\n",
       "       'Life & Health Insurance', 'Industrial Gases',\n",
       "       'Internet Services & Infrastructure', 'Passenger Airlines',\n",
       "       'Specialty Chemicals', 'Office REITs', 'Health Care Supplies',\n",
       "       'Electric Utilities', 'Property & Casualty Insurance',\n",
       "       'Interactive Media & Services', 'Tobacco',\n",
       "       'Internet & Direct Marketing Retail',\n",
       "       'Paper & Plastic Packaging Products & Materials', 'Semiconductors',\n",
       "       'Multi-Utilities', 'Consumer Finance', 'Telecom Tower REITs',\n",
       "       'Water Utilities', 'Asset Management & Custody Banks',\n",
       "       'Health Care Distributors', 'Electrical Components & Equipment',\n",
       "       'Biotechnology', 'Electronic Components', 'Insurance Brokers',\n",
       "       'Oil & Gas Exploration & Production',\n",
       "       'Technology Hardware, Storage & Peripherals',\n",
       "       'Semiconductor Materials & Equipment',\n",
       "       'Automotive Parts & Equipment', 'Reinsurance',\n",
       "       'Communications Equipment', 'Multi-line Insurance',\n",
       "       'Integrated Telecommunication Services', 'Gas Utilities',\n",
       "       'Specialty Stores', 'Residential REITs', 'Aerospace & Defense',\n",
       "       'Oil & Gas Equipment & Services',\n",
       "       'Metal, Glass & Plastic Containers', 'Diversified Banks',\n",
       "       'Multi-Sector Holdings', 'Computer & Electronics Retail',\n",
       "       'Life Sciences Tools & Services',\n",
       "       'Data Processing & Outsourced Services', 'Distillers & Vintners',\n",
       "       'Air Freight & Logistics', 'Casinos & Gaming',\n",
       "       'Packaged Foods & Meats', 'Hotels, Resorts & Cruise Lines',\n",
       "       'Construction Machinery & Heavy Transportation Equipment',\n",
       "       'Financial Exchanges & Data', 'Real Estate Services',\n",
       "       'Technology Distributors', 'Managed Health Care',\n",
       "       'Fertilizers & Agricultural Chemicals',\n",
       "       'Investment Banking & Brokerage', 'Cable & Satellite',\n",
       "       'Integrated Oil & Gas', 'Restaurants', 'Household Products',\n",
       "       'Diversified Support Services', 'Regional Banks',\n",
       "       'Soft Drinks & Non-alcoholic Beverages',\n",
       "       'Research & Consulting Services',\n",
       "       'Consumer Staples Merchandise Retail', 'Rail Transportation',\n",
       "       'Industrial Machinery & Supplies & Components',\n",
       "       'Health Care Services', 'Homebuilding', 'Health Care Facilities',\n",
       "       'Agricultural & Farm Machinery', 'Data Center REITs',\n",
       "       'Movies & Entertainment', 'Commodity Chemicals',\n",
       "       'Diversified Chemicals', 'Personal Care Products',\n",
       "       'Self-Storage REITs', 'Retail REITs',\n",
       "       'Transaction & Payment Processing Services',\n",
       "       'Automobile Manufacturers', 'Systems Software', 'Copper',\n",
       "       'Consumer Electronics', 'Health Care Technology',\n",
       "       'Leisure Products', 'Health Care REITs', 'Home Improvement Retail',\n",
       "       'Hotel & Resort REITs', 'Advertising', 'Other Specialized REITs',\n",
       "       'Cargo Ground Transportation', 'Construction & Engineering',\n",
       "       'Electronic Equipment & Instruments',\n",
       "       'Oil & Gas Storage & Transportation', 'Food Retail',\n",
       "       'Distributors', 'Oil & Gas Refining & Marketing',\n",
       "       'Construction Materials', 'Home Furnishings', 'Brewers',\n",
       "       'Housewares & Specialties', 'Gold', 'Publishing',\n",
       "       'Apparel, Accessories & Luxury Goods', 'Steel', 'Industrial REITs',\n",
       "       'Environmental & Facilities Services', 'Apparel Retail',\n",
       "       'Food Distributors', 'Wireless Telecommunication Services',\n",
       "       'Electronic Manufacturing Services',\n",
       "       'Trading Companies & Distributors', 'Drug Retail', 'Broadcasting',\n",
       "       'Timber REITs', 'Household Appliances'], dtype=object)"
      ]
     },
     "execution_count": 4,
     "metadata": {},
     "output_type": "execute_result"
    }
   ],
   "source": []
  },
  {
   "cell_type": "code",
   "execution_count": null,
   "metadata": {},
   "outputs": [],
   "source": []
  }
 ],
 "metadata": {
  "kernelspec": {
   "display_name": "venv",
   "language": "python",
   "name": "python3"
  },
  "language_info": {
   "codemirror_mode": {
    "name": "ipython",
    "version": 3
   },
   "file_extension": ".py",
   "mimetype": "text/x-python",
   "name": "python",
   "nbconvert_exporter": "python",
   "pygments_lexer": "ipython3",
   "version": "3.11.1"
  },
  "orig_nbformat": 4
 },
 "nbformat": 4,
 "nbformat_minor": 2
}
